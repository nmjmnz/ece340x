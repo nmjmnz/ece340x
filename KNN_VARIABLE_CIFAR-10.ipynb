{
 "cells": [
  {
   "cell_type": "code",
   "execution_count": null,
   "id": "01d58101-1f76-4bac-b1f6-085836bc59e8",
   "metadata": {},
   "outputs": [
    {
     "name": "stdout",
     "output_type": "stream",
     "text": [
      "Validation Accuracy: 30.16%\n",
      "Test Accuracy: 30.26%\n",
      "Validation Accuracy: 32.15%\n",
      "Test Accuracy: 32.12%\n",
      "Validation Accuracy: 33.05%\n",
      "Test Accuracy: 32.82%\n",
      "Validation Accuracy: 33.25%\n",
      "Test Accuracy: 33.17%\n",
      "Validation Accuracy: 32.87%\n",
      "Test Accuracy: 33.07%\n",
      "Validation Accuracy: 32.96%\n",
      "Test Accuracy: 33.00%\n",
      "Validation Accuracy: 33.14%\n",
      "Test Accuracy: 33.34%\n",
      "Validation Accuracy: 33.09%\n",
      "Test Accuracy: 33.16%\n"
     ]
    }
   ],
   "source": [
    "import numpy as np\n",
    "from sklearn.model_selection import train_test_split\n",
    "from sklearn.neighbors import KNeighborsClassifier\n",
    "from sklearn.metrics import accuracy_score\n",
    "from keras.datasets import cifar10\n",
    "\n",
    "# Load CIFAR-10 dataset\n",
    "(x_train, y_train), (x_test, y_test) = cifar10.load_data()\n",
    "\n",
    "# Preprocess the data\n",
    "x_train = x_train.reshape(x_train.shape[0], -1)  # Flatten the images\n",
    "x_test = x_test.reshape(x_test.shape[0], -1)\n",
    "\n",
    "# Flatten the labels\n",
    "y_train = y_train.flatten()\n",
    "y_test = y_test.flatten()\n",
    "\n",
    "# Split the data into training and testing sets\n",
    "x_train, x_val, y_train, y_val = train_test_split(x_train, y_train, test_size=0.2, random_state=42)\n",
    "\n",
    "accuracies_t = []\n",
    "accuracies_v = []\n",
    "k_num = []\n",
    "\n",
    "# Create and train the KNN model\n",
    "for i in range(2,11):\n",
    "    knn_model = KNeighborsClassifier(n_neighbors=i)  # You can adjust the number of neighbors (k) as needed\n",
    "    knn_model.fit(x_train, y_train)\n",
    "    y_val_pred = knn_model.predict(x_val)\n",
    "    accuracy = accuracy_score(y_val, y_val_pred)\n",
    "    print(f'Validation Accuracy: {accuracy * 100:.2f}%')\n",
    "    y_test_pred = knn_model.predict(x_test)\n",
    "    accuracy_test = accuracy_score(y_test, y_test_pred)\n",
    "    print(f'Test Accuracy: {accuracy_test * 100:.2f}%')\n",
    "    accuracies_t.append(accuracy_test)\n",
    "    accuracies_v.append(accuracy)\n",
    "    k_num.append(i)\n",
    "    \n",
    "plt.plot(k_num, accuracies_t, label='Training Accuracy')\n",
    "plt.plot(k_num, accuracies_v, label='Validation Accuracy')\n",
    "plt.title('Model Accuracy Over K')\n",
    "plt.xlabel('K-value')\n",
    "plt.ylabel('Accuracy')\n",
    "plt.legend()\n",
    "plt.show()"
   ]
  },
  {
   "cell_type": "code",
   "execution_count": 26,
   "id": "2f23cd2a-b8e9-4c0f-8e79-ff73e90e384b",
   "metadata": {},
   "outputs": [
    {
     "name": "stdout",
     "output_type": "stream",
     "text": [
      "[3, 4]\n",
      "[0.7875, 0.7965, 0.806, 0.811, 0.8175, 0.82, 0.8195, 0.8175, 0.816, 0.8205, 0.812, 0.8175, 0.8175, 0.819, 0.8135, 0.8185, 0.815, 0.8155, 0.811, 0.8145, 0.3212, 0.3212, 0.3282]\n"
     ]
    }
   ],
   "source": [
    "print(k_num)\n",
    "print(accuracies)"
   ]
  },
  {
   "cell_type": "code",
   "execution_count": null,
   "id": "ecea5722-213f-44c0-a08a-6e4a5f981edc",
   "metadata": {},
   "outputs": [],
   "source": []
  },
  {
   "cell_type": "code",
   "execution_count": null,
   "id": "1c5d64d1-06e1-4900-9a46-4d55cc270b00",
   "metadata": {},
   "outputs": [],
   "source": []
  }
 ],
 "metadata": {
  "kernelspec": {
   "display_name": "Python 3 (ipykernel)",
   "language": "python",
   "name": "python3"
  },
  "language_info": {
   "codemirror_mode": {
    "name": "ipython",
    "version": 3
   },
   "file_extension": ".py",
   "mimetype": "text/x-python",
   "name": "python",
   "nbconvert_exporter": "python",
   "pygments_lexer": "ipython3",
   "version": "3.9.5"
  }
 },
 "nbformat": 4,
 "nbformat_minor": 5
}
