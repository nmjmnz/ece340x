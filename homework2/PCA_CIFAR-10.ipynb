{
 "cells": [
  {
   "cell_type": "code",
   "execution_count": null,
   "id": "9ba8f2b7-d0aa-487f-bf98-04e1d5a23087",
   "metadata": {},
   "outputs": [],
   "source": [
    "import numpy as np\n",
    "import matplotlib.pyplot as plt\n",
    "from sklearn.decomposition import PCA\n",
    "from sklearn.preprocessing import StandardScaler\n",
    "from tensorflow.keras.datasets import cifar10\n",
    "\n",
    "# Load CIFAR-10 dataset\n",
    "(_, _), (test_images, _) = cifar10.load_data()\n",
    "\n",
    "# Preprocess images\n",
    "test_images_flat = test_images.reshape((len(test_images), -1))\n",
    "\n",
    "# Standardize data\n",
    "scaler = StandardScaler()\n",
    "test_images_scaled = scaler.fit_transform(test_images_flat)\n",
    "\n",
    "# Apply PCA for dimensionality reduction\n",
    "num_components = 50  # Adjust the number of components as needed\n",
    "pca = PCA(n_components=num_components)\n",
    "test_images_pca = pca.fit_transform(test_images_scaled)\n",
    "\n",
    "# Visualize the first two principal components (optional)\n",
    "if num_components >= 2:\n",
    "    plt.scatter(test_images_pca[:, 0], test_images_pca[:, 1], c='blue', s=10)\n",
    "    plt.title('PCA: Projected Test Images')\n",
    "    plt.xlabel('Principal Component 1')\n",
    "    plt.ylabel('Principal Component 2')\n",
    "    plt.show()\n",
    "\n",
    "# You now have the lower-dimensional representations of the test images in test_images_pca\n"
   ]
  },
  {
   "cell_type": "code",
   "execution_count": null,
   "id": "60a03d77-7579-4694-84cd-dd457a984c5d",
   "metadata": {},
   "outputs": [],
   "source": []
  }
 ],
 "metadata": {
  "kernelspec": {
   "display_name": "Python 3 (ipykernel)",
   "language": "python",
   "name": "python3"
  },
  "language_info": {
   "codemirror_mode": {
    "name": "ipython",
    "version": 3
   },
   "file_extension": ".py",
   "mimetype": "text/x-python",
   "name": "python",
   "nbconvert_exporter": "python",
   "pygments_lexer": "ipython3",
   "version": "3.9.5"
  }
 },
 "nbformat": 4,
 "nbformat_minor": 5
}
