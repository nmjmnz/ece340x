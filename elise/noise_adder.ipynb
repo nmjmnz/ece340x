{
  "nbformat": 4,
  "nbformat_minor": 0,
  "metadata": {
    "colab": {
      "provenance": []
    },
    "kernelspec": {
      "name": "python3",
      "display_name": "Python 3"
    },
    "language_info": {
      "name": "python"
    }
  },
  "cells": [
    {
      "cell_type": "code",
      "execution_count": null,
      "metadata": {
        "id": "Ia8nqHSv8-72"
      },
      "outputs": [],
      "source": [
        "import numpy as np\n",
        "import librosa\n",
        "import soundfile as sf\n",
        "\n",
        "def add_noise(signal, noise_level):\n",
        "    \"\"\"\n",
        "    Add random digital noise to the audio signal.\n",
        "    \"\"\"\n",
        "    noise = np.random.normal(0, noise_level, len(signal))\n",
        "    noisy_signal = signal + noise\n",
        "    return noisy_signal\n",
        "\n",
        "def generate_audio_files(input_file, output_dir, num_files=200, noise_percentage=0.4):\n",
        "    \"\"\"\n",
        "    Generate 200 audio files based on the input signal:\n",
        "    - 40% of the files contain the original signal with varying amounts of added digital noise.\n",
        "    - 60% of the files are just random digital noise without the original signal.\n",
        "\n",
        "    Parameters:\n",
        "    - input_file: The path to the existing audio signal.\n",
        "    - output_dir: The directory where the generated audio files will be saved.\n",
        "    - num_files: Total number of output audio files.\n",
        "    - noise_percentage: Percentage of files containing added noise.\n",
        "    \"\"\"\n",
        "    # Load the original audio signal\n",
        "    original_signal, sr = librosa.load(input_file, sr=None)\n",
        "\n",
        "    for i in range(num_files):\n",
        "        if i < num_files * noise_percentage:\n",
        "            # Add noise to the original signal\n",
        "            noise_level = np.random.uniform(0.001, 0.01)  # Adjust the noise level range as needed\n",
        "            generated_signal = add_noise(original_signal, noise_level)\n",
        "        else:\n",
        "            # Generate random digital noise without the original signal\n",
        "            generated_signal = np.random.normal(0, 0.01, len(original_signal))\n",
        "\n",
        "        # Save the generated audio file\n",
        "        output_file = f\"{output_dir}/audio_{i + 1}.wav\"\n",
        "        sf.write(output_file, generated_signal, sr)\n",
        "\n",
        "if __name__ == \"__main__\":\n",
        "    input_audio_file = \"/content/fur_elise_5s.wav\"\n",
        "    output_directory = \"/content/drive/MyDrive/Colab Notebooks\"\n",
        "\n",
        "    generate_audio_files(input_audio_file, output_directory)\n"
      ]
    }
  ]
}